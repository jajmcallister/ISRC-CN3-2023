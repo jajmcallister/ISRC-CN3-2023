{
  "cells": [
    {
      "cell_type": "code",
      "execution_count": null,
      "metadata": {
        "id": "f16d2c34"
      },
      "outputs": [],
      "source": [
        "# Import Neuron.py code into colab\n",
        "!wget https://raw.githubusercontent.com/ISRC-CN3/Day-1-25-10/main/Lab/Codes/Python/Python_spiking_neuron/Neuron.py -O Neuron.py"
      ]
    },
    {
      "cell_type": "code",
      "execution_count": null,
      "metadata": {
        "id": "lTYpEoolP_q9"
      },
      "outputs": [],
      "source": [
        "from Neuron import Neuron\n",
        "neuron_one=Neuron()\n",
        "neuron_one.create_injection_current()\n",
        "neuron_one.leaky_integrate_and_fire()\n",
        "neuron_one.plot_neuron()"
      ]
    },
    {
      "cell_type": "code",
      "execution_count": null,
      "metadata": {
        "id": "ef610b30"
      },
      "outputs": [],
      "source": [
        "# Instructions for the second question:\n",
        "# 1. Click on the folder icon in the left pane to open the code folder.\n",
        "# 2. Double-click on the 'Neuron.py' file to open it.\n",
        "# 3. Modify the variables according to the second question in the note.\n",
        "# 4. Save the file using 'CTRL + S' in the editor.\n",
        "# 5. Close the editor.\n",
        "# 6. Manually restart the runtime by clicking on \"Runtime\" -> \"Restart runtime\" in the menu.\n",
        "# 7. After the runtime has restarted, run the following cell to execute the code.\n",
        "\n",
        "from Neuron import Neuron\n",
        "neuron_one = Neuron()\n",
        "neuron_one.create_injection_current()\n",
        "neuron_one.leaky_integrate_and_fire()\n",
        "neuron_one.plot_neuron()"
      ]
    },
    {
      "cell_type": "code",
      "source": [
        "# Instructions for the third question:\n",
        "# 1. Click on the folder icon in the left pane to open the code folder.\n",
        "# 2. Double-click on the 'Neuron.py' file to open it.\n",
        "# 3. Modify the variables according to the third question in the note.\n",
        "# 4. Save the file using 'CTRL + S' in the editor.\n",
        "# 5. Close the editor.\n",
        "# 6. Manually restart the runtime by clicking on \"Runtime\" -> \"Restart runtime\" in the menu.\n",
        "# 7. After the runtime has restarted, run the following cell to execute the code.\n",
        "\n",
        "from Neuron import Neuron\n",
        "neuron_one = Neuron()\n",
        "neuron_one.create_injection_current()\n",
        "neuron_one.leaky_integrate_and_fire()\n",
        "neuron_one.plot_neuron()"
      ],
      "metadata": {
        "id": "byepfPt8SeWH"
      },
      "execution_count": null,
      "outputs": []
    },
    {
      "cell_type": "code",
      "source": [
        "# Instructions for the fourth question:\n",
        "# 1. Click on the folder icon in the left pane to open the code folder.\n",
        "# 2. Double-click on the 'Neuron.py' file to open it.\n",
        "# 3. Modify the variables according to the third question in the note.\n",
        "# 4. Save the file using 'CTRL + S' in the editor.\n",
        "# 5. Close the editor.\n",
        "# 6. Manually restart the runtime by clicking on \"Runtime\" -> \"Restart runtime\" in the menu.\n",
        "# 7. After the runtime has restarted, run the following cell to execute the code.\n",
        "\n",
        "from Neuron import Neuron\n",
        "neuron_one = Neuron()\n",
        "neuron_one.create_injection_current()\n",
        "neuron_one.leaky_integrate_and_fire()\n",
        "neuron_one.plot_neuron()"
      ],
      "metadata": {
        "id": "27ShoAcMS7ox"
      },
      "execution_count": null,
      "outputs": []
    }
  ],
  "metadata": {
    "kernelspec": {
      "display_name": "Python 3 (ipykernel)",
      "language": "python",
      "name": "python3"
    },
    "language_info": {
      "codemirror_mode": {
        "name": "ipython",
        "version": 3
      },
      "file_extension": ".py",
      "mimetype": "text/x-python",
      "name": "python",
      "nbconvert_exporter": "python",
      "pygments_lexer": "ipython3",
      "version": "3.9.10"
    },
    "colab": {
      "provenance": []
    }
  },
  "nbformat": 4,
  "nbformat_minor": 0
}